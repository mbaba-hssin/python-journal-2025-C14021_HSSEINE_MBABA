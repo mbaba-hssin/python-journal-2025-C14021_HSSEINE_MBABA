{
 "cells": [
  {
   "cell_type": "markdown",
   "id": "8168be10",
   "metadata": {},
   "source": [
    "\n",
    "# TP1 – Pandas : Bases des DataFrames 🐼\n",
    "Ce TP présente les bases de la bibliothèque Pandas pour manipuler des données tabulaires avec Python.\n",
    "\n",
    "**Objectifs :**\n",
    "- Importer des données CSV dans un DataFrame\n",
    "- Afficher les premières/lignes colonnes\n",
    "- Utiliser les fonctions `.head()`, `.tail()`, `.info()`, `.describe()`, etc.\n"
   ]
  },
  {
   "cell_type": "code",
   "execution_count": null,
   "id": "646e80ec",
   "metadata": {},
   "outputs": [],
   "source": [
    "\n",
    "import pandas as pd\n",
    "import matplotlib.pyplot as plt\n",
    "\n",
    "# Chargement du jeu de données (remplacer par le bon chemin si nécessaire)\n",
    "df = pd.read_csv(\"pokemon_data.csv\")\n",
    "\n",
    "# Aperçu rapide\n",
    "df.head()\n"
   ]
  },
  {
   "cell_type": "markdown",
   "id": "ebfa3ee6",
   "metadata": {},
   "source": [
    "## Fonctions de base du DataFrame"
   ]
  },
  {
   "cell_type": "code",
   "execution_count": null,
   "id": "79ee4cd9",
   "metadata": {},
   "outputs": [],
   "source": [
    "\n",
    "# Affiche les 5 premières lignes\n",
    "df.head()\n"
   ]
  },
  {
   "cell_type": "code",
   "execution_count": null,
   "id": "03504d65",
   "metadata": {},
   "outputs": [],
   "source": [
    "\n",
    "# Affiche les 5 dernières lignes\n",
    "df.tail()\n"
   ]
  },
  {
   "cell_type": "code",
   "execution_count": null,
   "id": "c77be209",
   "metadata": {},
   "outputs": [],
   "source": [
    "\n",
    "# Affiche les informations générales du DataFrame\n",
    "df.info()\n"
   ]
  },
  {
   "cell_type": "code",
   "execution_count": null,
   "id": "8ccacd60",
   "metadata": {},
   "outputs": [],
   "source": [
    "\n",
    "# Affiche les statistiques descriptives\n",
    "df.describe()\n"
   ]
  },
  {
   "cell_type": "markdown",
   "id": "9c998306",
   "metadata": {},
   "source": [
    "## Colonnes et index"
   ]
  },
  {
   "cell_type": "code",
   "execution_count": null,
   "id": "de661879",
   "metadata": {},
   "outputs": [],
   "source": [
    "\n",
    "# Liste des colonnes\n",
    "df.columns\n"
   ]
  },
  {
   "cell_type": "code",
   "execution_count": null,
   "id": "255526b4",
   "metadata": {},
   "outputs": [],
   "source": [
    "\n",
    "# Liste des index\n",
    "df.index\n"
   ]
  },
  {
   "cell_type": "markdown",
   "id": "1eeb780c",
   "metadata": {},
   "source": [
    "## Sélection de colonnes"
   ]
  },
  {
   "cell_type": "code",
   "execution_count": null,
   "id": "0c7290cb",
   "metadata": {},
   "outputs": [],
   "source": [
    "\n",
    "# Sélection d'une colonne (Série)\n",
    "df[\"HP\"]\n"
   ]
  },
  {
   "cell_type": "code",
   "execution_count": null,
   "id": "b4f1dc8c",
   "metadata": {},
   "outputs": [],
   "source": [
    "\n",
    "# Sélection de plusieurs colonnes (DataFrame)\n",
    "df[[\"HP\", \"Attack\"]]\n"
   ]
  },
  {
   "cell_type": "code",
   "execution_count": null,
   "id": "dc6ebde2",
   "metadata": {},
   "outputs": [],
   "source": [
    "\n",
    "# Histogramme de la colonne HP\n",
    "df[\"HP\"].plot.hist(title=\"Distribution des HP\")\n",
    "plt.xlabel(\"HP\")\n",
    "plt.show()\n"
   ]
  },
  {
   "cell_type": "code",
   "execution_count": null,
   "id": "b74c859c",
   "metadata": {},
   "outputs": [],
   "source": [
    "\n",
    "# Sélection des 4 premières colonnes\n",
    "df[df.columns[:4]]\n"
   ]
  },
  {
   "cell_type": "code",
   "execution_count": null,
   "id": "851bd2da",
   "metadata": {},
   "outputs": [],
   "source": [
    "\n",
    "# Colonnes de type int uniquement\n",
    "df.select_dtypes(\"int\")\n"
   ]
  },
  {
   "cell_type": "markdown",
   "id": "2db1c814",
   "metadata": {},
   "source": [
    "\n",
    "## ✅ Fin du TP1\n",
    "Tu viens de voir les bases de la manipulation de DataFrames avec Pandas.\n"
   ]
  }
 ],
 "metadata": {},
 "nbformat": 4,
 "nbformat_minor": 5
}
