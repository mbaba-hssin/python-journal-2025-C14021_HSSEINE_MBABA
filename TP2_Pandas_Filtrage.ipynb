{
 "cells": [
  {
   "cell_type": "markdown",
   "id": "a71ab7c0",
   "metadata": {},
   "source": [
    "\n",
    "# TP2 – Pandas : Filtrage avec `iloc[]`, `loc[]`, `query()` 🔍\n",
    "\n",
    "**Objectifs :**\n",
    "- Savoir filtrer les lignes d’un DataFrame\n",
    "- Utiliser `iloc[]` pour filtrer par position\n",
    "- Utiliser `loc[]` pour filtrer avec des conditions\n",
    "- Utiliser `query()` pour des filtres avancés\n"
   ]
  },
  {
   "cell_type": "code",
   "execution_count": null,
   "id": "81c120ff",
   "metadata": {},
   "outputs": [],
   "source": [
    "\n",
    "import pandas as pd\n",
    "import matplotlib.pyplot as plt\n",
    "\n",
    "df = pd.read_csv(\"pokemon_data.csv\")\n",
    "df.head()\n"
   ]
  },
  {
   "cell_type": "markdown",
   "id": "5d3897a1",
   "metadata": {},
   "source": [
    "## Filtrage avec `iloc[]` (par index)"
   ]
  },
  {
   "cell_type": "code",
   "execution_count": null,
   "id": "5a991777",
   "metadata": {},
   "outputs": [],
   "source": [
    "\n",
    "# Affiche la valeur à la 2ème ligne, 5ème colonne\n",
    "df.iloc[2, 4]\n"
   ]
  },
  {
   "cell_type": "code",
   "execution_count": null,
   "id": "08e7d42c",
   "metadata": {},
   "outputs": [],
   "source": [
    "\n",
    "# Les 5 premières lignes et 5 premières colonnes\n",
    "df.iloc[:5, :5]\n"
   ]
  },
  {
   "cell_type": "code",
   "execution_count": null,
   "id": "4c9958db",
   "metadata": {},
   "outputs": [],
   "source": [
    "\n",
    "# Bar chart des colonnes [1:5] pour les 5 premières lignes\n",
    "df.iloc[:5, 1:5].plot.bar()\n",
    "plt.show()\n"
   ]
  },
  {
   "cell_type": "code",
   "execution_count": null,
   "id": "b3aa2a83",
   "metadata": {},
   "outputs": [],
   "source": [
    "\n",
    "# Une seule ligne en série\n",
    "df.iloc[5]\n"
   ]
  },
  {
   "cell_type": "code",
   "execution_count": null,
   "id": "517cc858",
   "metadata": {},
   "outputs": [],
   "source": [
    "\n",
    "# Une seule ligne en DataFrame\n",
    "df.iloc[[5]]\n"
   ]
  },
  {
   "cell_type": "code",
   "execution_count": null,
   "id": "6dc8a20c",
   "metadata": {},
   "outputs": [],
   "source": [
    "\n",
    "# Toutes les lignes de la colonne \"Name\"\n",
    "df.iloc[:, 1]\n"
   ]
  },
  {
   "cell_type": "code",
   "execution_count": null,
   "id": "b222c6f3",
   "metadata": {},
   "outputs": [],
   "source": [
    "\n",
    "# Toutes les lignes des colonnes \"Name\" et \"Defense\"\n",
    "df.iloc[:, [1, 6]]\n"
   ]
  },
  {
   "cell_type": "code",
   "execution_count": null,
   "id": "0830602c",
   "metadata": {},
   "outputs": [],
   "source": [
    "\n",
    "# Histogramme des valeurs de \"Defense\"\n",
    "df.iloc[:, [6]].plot.hist(title=\"Répartition de la défense\")\n",
    "plt.xlabel(\"Defense\")\n",
    "plt.show()\n"
   ]
  },
  {
   "cell_type": "markdown",
   "id": "04a5631e",
   "metadata": {},
   "source": [
    "## Filtrage avec `loc[]` (par nom + conditions)"
   ]
  },
  {
   "cell_type": "code",
   "execution_count": null,
   "id": "0caa7123",
   "metadata": {},
   "outputs": [],
   "source": [
    "\n",
    "# Filtrer tous les Pokémon qui ne sont pas légendaires\n",
    "df.loc[df['Legendary'] == False]\n"
   ]
  },
  {
   "cell_type": "code",
   "execution_count": null,
   "id": "ff9a287d",
   "metadata": {},
   "outputs": [],
   "source": [
    "\n",
    "# Pokémon non légendaires ET de type 'Grass'\n",
    "df.loc[(df['Legendary'] == False) & (df['Type 1'] == 'Grass')]\n"
   ]
  },
  {
   "cell_type": "code",
   "execution_count": null,
   "id": "3d1662d2",
   "metadata": {},
   "outputs": [],
   "source": [
    "\n",
    "# Exclure les Pokémon 'Grass' non légendaires (~ = NOT)\n",
    "df.loc[~((df['Type 1'] == 'Grass') & (df['Legendary'] == False))]\n"
   ]
  },
  {
   "cell_type": "markdown",
   "id": "8d97ef46",
   "metadata": {},
   "source": [
    "## Filtrage avec `query()`"
   ]
  },
  {
   "cell_type": "code",
   "execution_count": null,
   "id": "b3ff61bf",
   "metadata": {},
   "outputs": [],
   "source": [
    "\n",
    "# HP > 40 ET Attack < 100\n",
    "df.query('(HP > 40) and (Attack < 100)')\n"
   ]
  },
  {
   "cell_type": "code",
   "execution_count": null,
   "id": "f66476b6",
   "metadata": {},
   "outputs": [],
   "source": [
    "\n",
    "# Utilisation d'une variable dans query()\n",
    "min_hp = 70\n",
    "df.query('HP > @min_hp')\n"
   ]
  },
  {
   "cell_type": "markdown",
   "id": "a7df37c5",
   "metadata": {},
   "source": [
    "\n",
    "## ✅ Fin du TP2\n",
    "Tu maîtrises maintenant les fonctions de filtrage de Pandas avec `iloc`, `loc` et `query()`.\n"
   ]
  }
 ],
 "metadata": {},
 "nbformat": 4,
 "nbformat_minor": 5
}
